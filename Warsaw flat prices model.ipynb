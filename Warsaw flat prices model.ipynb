{
 "cells": [
  {
   "cell_type": "markdown",
   "metadata": {},
   "source": [
    "# Modelowanie cen mieszkań na rynku warszawskim\n",
    "## Główny cel projektu: opracowanie modelu szacującego ceny mieszkań (w PLN) na rynku warszawskim.\n",
    "\n",
    "### Założenia:\n",
    "> Algorytmy użyte w procesie modelowania to:\n",
    "- Linear regression,\n",
    "- Decision tree regressor,\n",
    "- Random forest regressor.\n",
    "\n",
    "> Zmienne objaśniające:\n",
    "- Powierzchnia mieszkania (m²),\n",
    "- Dzielnica,\n",
    "- Piętro.\n",
    "\n",
    "> Metryka wydajności modeli:\n",
    "- Pierwiastek błędu średniokwadratowego (RMSE).\n",
    "<br>\n",
    "\n",
    "### Zbiór danych:\n",
    "Ceny mieszkań na rynku warszawskim zebrane z jednego z wiodących portali ogłoszeniowych przy pomocy własnego skryptu opartego na webscrapingu (link do skryptu: [Ceny mieszkań](https://github.com/Daro84/flat-prices )).<br>\n"
   ]
  },
  {
   "cell_type": "markdown",
   "metadata": {},
   "source": [
    "### 1. Import bibliotek użytych w projekcie"
   ]
  },
  {
   "cell_type": "code",
   "execution_count": 1,
   "metadata": {},
   "outputs": [],
   "source": [
    "import numpy as np\n",
    "import pandas as pd\n",
    "import matplotlib.pyplot as plt\n",
    "import seaborn as sns\n",
    "%matplotlib inline\n",
    "\n",
    "from sklearn.preprocessing import StandardScaler\n",
    "from sklearn.model_selection import train_test_split\n",
    "from sklearn.linear_model import LinearRegression\n",
    "from sklearn.metrics import mean_squared_error\n",
    "from sklearn.tree import DecisionTreeRegressor\n",
    "from sklearn.ensemble import RandomForestRegressor\n",
    "from sklearn.model_selection import cross_val_score, RandomizedSearchCV\n",
    "from scipy.stats import randint"
   ]
  },
  {
   "cell_type": "code",
   "execution_count": 2,
   "metadata": {},
   "outputs": [],
   "source": [
    "import warnings\n",
    "warnings.filterwarnings('ignore')"
   ]
  },
  {
   "cell_type": "markdown",
   "metadata": {},
   "source": [
    "### 2. Wczytanie danych"
   ]
  },
  {
   "cell_type": "code",
   "execution_count": 3,
   "metadata": {},
   "outputs": [],
   "source": [
    "prices = pd.read_excel('prices_Warsaw.xlsx')"
   ]
  },
  {
   "cell_type": "markdown",
   "metadata": {},
   "source": [
    "<b>Podgląd wstępnego zbioru danych</b>"
   ]
  },
  {
   "cell_type": "code",
   "execution_count": 4,
   "metadata": {},
   "outputs": [
    {
     "data": {
      "text/html": [
       "<div>\n",
       "<style scoped>\n",
       "    .dataframe tbody tr th:only-of-type {\n",
       "        vertical-align: middle;\n",
       "    }\n",
       "\n",
       "    .dataframe tbody tr th {\n",
       "        vertical-align: top;\n",
       "    }\n",
       "\n",
       "    .dataframe thead th {\n",
       "        text-align: right;\n",
       "    }\n",
       "</style>\n",
       "<table border=\"1\" class=\"dataframe\">\n",
       "  <thead>\n",
       "    <tr style=\"text-align: right;\">\n",
       "      <th></th>\n",
       "      <th>district</th>\n",
       "      <th>area</th>\n",
       "      <th>floor</th>\n",
       "      <th>price</th>\n",
       "    </tr>\n",
       "  </thead>\n",
       "  <tbody>\n",
       "    <tr>\n",
       "      <th>0</th>\n",
       "      <td>Warszawa</td>\n",
       "      <td>41.50</td>\n",
       "      <td>1</td>\n",
       "      <td>715000</td>\n",
       "    </tr>\n",
       "    <tr>\n",
       "      <th>1</th>\n",
       "      <td>Mokotów</td>\n",
       "      <td>168.50</td>\n",
       "      <td>0</td>\n",
       "      <td>2948750</td>\n",
       "    </tr>\n",
       "    <tr>\n",
       "      <th>2</th>\n",
       "      <td>Bemowo</td>\n",
       "      <td>103.36</td>\n",
       "      <td>3</td>\n",
       "      <td>764864</td>\n",
       "    </tr>\n",
       "    <tr>\n",
       "      <th>3</th>\n",
       "      <td>Śródmieście</td>\n",
       "      <td>64.00</td>\n",
       "      <td>4</td>\n",
       "      <td>750000</td>\n",
       "    </tr>\n",
       "    <tr>\n",
       "      <th>4</th>\n",
       "      <td>Praga-Południe</td>\n",
       "      <td>61.00</td>\n",
       "      <td>2</td>\n",
       "      <td>499000</td>\n",
       "    </tr>\n",
       "  </tbody>\n",
       "</table>\n",
       "</div>"
      ],
      "text/plain": [
       "           district    area  floor    price\n",
       "0         Warszawa    41.50      1   715000\n",
       "1          Mokotów   168.50      0  2948750\n",
       "2           Bemowo   103.36      3   764864\n",
       "3      Śródmieście    64.00      4   750000\n",
       "4   Praga-Południe    61.00      2   499000"
      ]
     },
     "execution_count": 4,
     "metadata": {},
     "output_type": "execute_result"
    }
   ],
   "source": [
    "prices.head()"
   ]
  },
  {
   "cell_type": "markdown",
   "metadata": {},
   "source": [
    "<b>Typy zmiennych</b>"
   ]
  },
  {
   "cell_type": "code",
   "execution_count": 5,
   "metadata": {},
   "outputs": [
    {
     "name": "stdout",
     "output_type": "stream",
     "text": [
      "<class 'pandas.core.frame.DataFrame'>\n",
      "Int64Index: 5827 entries, 0 to 5826\n",
      "Data columns (total 4 columns):\n",
      "district    5827 non-null object\n",
      "area        5827 non-null float64\n",
      "floor       5827 non-null int64\n",
      "price       5827 non-null int64\n",
      "dtypes: float64(1), int64(2), object(1)\n",
      "memory usage: 227.6+ KB\n"
     ]
    }
   ],
   "source": [
    "prices.info()"
   ]
  },
  {
   "cell_type": "markdown",
   "metadata": {},
   "source": [
    "<b>Statystyki opisowe dla zmiennych numerycznych</b>"
   ]
  },
  {
   "cell_type": "code",
   "execution_count": 6,
   "metadata": {},
   "outputs": [
    {
     "data": {
      "text/html": [
       "<div>\n",
       "<style scoped>\n",
       "    .dataframe tbody tr th:only-of-type {\n",
       "        vertical-align: middle;\n",
       "    }\n",
       "\n",
       "    .dataframe tbody tr th {\n",
       "        vertical-align: top;\n",
       "    }\n",
       "\n",
       "    .dataframe thead th {\n",
       "        text-align: right;\n",
       "    }\n",
       "</style>\n",
       "<table border=\"1\" class=\"dataframe\">\n",
       "  <thead>\n",
       "    <tr style=\"text-align: right;\">\n",
       "      <th></th>\n",
       "      <th>area</th>\n",
       "      <th>floor</th>\n",
       "      <th>price</th>\n",
       "    </tr>\n",
       "  </thead>\n",
       "  <tbody>\n",
       "    <tr>\n",
       "      <th>count</th>\n",
       "      <td>5827.000000</td>\n",
       "      <td>5827.000000</td>\n",
       "      <td>5.827000e+03</td>\n",
       "    </tr>\n",
       "    <tr>\n",
       "      <th>mean</th>\n",
       "      <td>71.500431</td>\n",
       "      <td>3.139351</td>\n",
       "      <td>7.614946e+05</td>\n",
       "    </tr>\n",
       "    <tr>\n",
       "      <th>std</th>\n",
       "      <td>35.466640</td>\n",
       "      <td>3.424103</td>\n",
       "      <td>6.007674e+05</td>\n",
       "    </tr>\n",
       "    <tr>\n",
       "      <th>min</th>\n",
       "      <td>11.200000</td>\n",
       "      <td>0.000000</td>\n",
       "      <td>2.000000e+04</td>\n",
       "    </tr>\n",
       "    <tr>\n",
       "      <th>25%</th>\n",
       "      <td>48.335000</td>\n",
       "      <td>1.000000</td>\n",
       "      <td>4.490000e+05</td>\n",
       "    </tr>\n",
       "    <tr>\n",
       "      <th>50%</th>\n",
       "      <td>62.000000</td>\n",
       "      <td>2.000000</td>\n",
       "      <td>5.750000e+05</td>\n",
       "    </tr>\n",
       "    <tr>\n",
       "      <th>75%</th>\n",
       "      <td>85.000000</td>\n",
       "      <td>4.000000</td>\n",
       "      <td>8.550000e+05</td>\n",
       "    </tr>\n",
       "    <tr>\n",
       "      <th>max</th>\n",
       "      <td>423.600000</td>\n",
       "      <td>127.000000</td>\n",
       "      <td>8.600000e+06</td>\n",
       "    </tr>\n",
       "  </tbody>\n",
       "</table>\n",
       "</div>"
      ],
      "text/plain": [
       "              area        floor         price\n",
       "count  5827.000000  5827.000000  5.827000e+03\n",
       "mean     71.500431     3.139351  7.614946e+05\n",
       "std      35.466640     3.424103  6.007674e+05\n",
       "min      11.200000     0.000000  2.000000e+04\n",
       "25%      48.335000     1.000000  4.490000e+05\n",
       "50%      62.000000     2.000000  5.750000e+05\n",
       "75%      85.000000     4.000000  8.550000e+05\n",
       "max     423.600000   127.000000  8.600000e+06"
      ]
     },
     "execution_count": 6,
     "metadata": {},
     "output_type": "execute_result"
    }
   ],
   "source": [
    "prices.describe()"
   ]
  },
  {
   "cell_type": "markdown",
   "metadata": {},
   "source": [
    "### 3. Przygotowanie danych do modelowania"
   ]
  },
  {
   "cell_type": "markdown",
   "metadata": {},
   "source": [
    "<b>Zmienna zależna - 'price'</b><br><br>\n",
    "Usunięcie wartości zmiennej 'price' przekraczających 95 percentyl. Z analizy wyłączone są najdroższe mieszkania na rynku, bowiem specyfika kształtowania się ich cen jest odmienna.\n"
   ]
  },
  {
   "cell_type": "code",
   "execution_count": 7,
   "metadata": {},
   "outputs": [
    {
     "name": "stdout",
     "output_type": "stream",
     "text": [
      "Mieszkania z ceną powyżej 1750000.0 PLN zostają wyłączone z analizy - w sumie 287 mieszkań.\n"
     ]
    }
   ],
   "source": [
    "upper_bound = prices['price'].quantile(0.95)\n",
    "num_outliers = (prices['price'] > upper_bound).sum()\n",
    "prices = prices[prices['price'] < upper_bound]\n",
    "print('Mieszkania z ceną powyżej {} PLN zostają wyłączone z analizy - w sumie {} mieszkań.'\n",
    "      .format(round(upper_bound,2), num_outliers))"
   ]
  },
  {
   "cell_type": "markdown",
   "metadata": {},
   "source": [
    "Sprawdzenie poprawności wartości zmiennej 'price' poprzez weryfikację cen za m² - mieszkania z ceną poniżej 3 tys. PLN/m² zostają uznane za błędne i usunięte ze zbioru danych.<br>"
   ]
  },
  {
   "cell_type": "code",
   "execution_count": 8,
   "metadata": {},
   "outputs": [
    {
     "data": {
      "text/plain": [
       "1706     982.800983\n",
       "1912    2487.500000\n",
       "5611    2516.129032\n",
       "2156    2977.611940\n",
       "3973    3934.426230\n",
       "Name: price_m, dtype: float64"
      ]
     },
     "execution_count": 8,
     "metadata": {},
     "output_type": "execute_result"
    }
   ],
   "source": [
    "prices['price_m'] = prices['price'] / prices['area']\n",
    "prices['price_m'].sort_values().head()"
   ]
  },
  {
   "cell_type": "code",
   "execution_count": 9,
   "metadata": {},
   "outputs": [],
   "source": [
    "prices = prices[prices['price_m'] >=3000]"
   ]
  },
  {
   "cell_type": "markdown",
   "metadata": {},
   "source": [
    "Zrekodowanie zmiennej 'price' dla zwiększenia czytelności - wartości w tys. PLN"
   ]
  },
  {
   "cell_type": "code",
   "execution_count": 10,
   "metadata": {},
   "outputs": [],
   "source": [
    "prices['price'] = prices['price'] / 1000"
   ]
  },
  {
   "cell_type": "markdown",
   "metadata": {},
   "source": [
    "<b>Zmienna 'floor'</b><br><br>\n",
    "Usunięcie odstających i błędnych wartości zmiennej - w analizie uwzględniono tylko wartości do 20 piętra włącznie."
   ]
  },
  {
   "cell_type": "code",
   "execution_count": 11,
   "metadata": {},
   "outputs": [
    {
     "data": {
      "text/plain": [
       "3322    127\n",
       "4369     28\n",
       "477      20\n",
       "3383     20\n",
       "323      19\n",
       "Name: floor, dtype: int64"
      ]
     },
     "execution_count": 11,
     "metadata": {},
     "output_type": "execute_result"
    }
   ],
   "source": [
    "prices['floor'].sort_values(ascending=False).head()"
   ]
  },
  {
   "cell_type": "code",
   "execution_count": 12,
   "metadata": {},
   "outputs": [],
   "source": [
    "prices = prices[prices['floor'] <= 20]"
   ]
  },
  {
   "cell_type": "markdown",
   "metadata": {},
   "source": [
    "<b>Zmienna 'district'</b><br>"
   ]
  },
  {
   "cell_type": "markdown",
   "metadata": {},
   "source": [
    "Rekodowanie zmiennej 'district'<br>\n",
    "Zbiór danych wejściowych zaczerpniętych poprzez scrapowanie strony www z ofertami zawiera chaotyczny podział na dzielnice, uwzględniający zarówno nazwy dzielnic jak i nazwy poszczgólnych osiedli, jak też dane nieprecyzyjne (np. \"Warszawa\" lub \"Polska\"), co w sumie stanowi aż 129 kategorii. Poniższa funkcja lambda w połączeniu z dictionary porządkuje zmienną 'district', wprowadzając podział na 18 głównych dzielnic. Nazwy nieprecyzyjne zostają usunięte ze zbioru."
   ]
  },
  {
   "cell_type": "code",
   "execution_count": 13,
   "metadata": {},
   "outputs": [],
   "source": [
    "district_dict = {'Anin':'Wawer', 'Augustówka':'Mokotów', 'Bemowo Lotnisko':'Bemowo', 'BiałołękaDworska':'Białołęka', \n",
    "'BłoniaWilanowskie':'Wilanów', 'Bródno':'Targówek', 'Brzeziny':'Białołęka', 'Chomiczówka':'Bielany',\n",
    "'Chrzanów':'Bemowo', 'Czechowice':'Ursus', 'Czerniaków':'Mokotów', 'Czyste': 'Wola', 'Elsnerów':'Targówek',\n",
    "'Filtry':'Ochota', 'Fort Bema':'Bemowo', 'Gocław':'Praga-Południe', 'Gocławek':'Praga-Południe',\n",
    "'Gołąbki':'Ursus', 'Górce':'Bemowo', 'Grabów':'Ursynów', 'Grochów':'Praga-Południe', 'Grodzisk':'Białołęka',\n",
    "'Henryków':'Białołęka', 'JelonkiPołudniowe':'Bemowo', 'JelonkiPółnocne':'Bemowo', 'Józefosław':'Ursynów',\n",
    "'Kabaty':'Ursynów', 'Kamionek':'Praga-Południe', 'Kobiałka':'Białołęka', 'Koło':'Wola',\n",
    "'Ksawerów':'Mokotów', 'Las Bielański':'Bielany', 'Marymont-Kaskada':'Bielany', 'Marymont-Potok':'Bielany',\n",
    "'Marymont-Ruda':'Bielany', 'Marysin Wawerski ':'Wawer', 'Miedzeszyn':'Wawer', 'Międzylesie':'Wawer',\n",
    "'Mirów':'Wola', 'Młociny':'Bielany', 'Młynów':'Wola', 'Muranów':'Śródmieście', 'Natolin':'Ursynów',\n",
    "'Niedźwiadek':'Ursus', 'Nowa Praga':'Praga-Północ', 'Nowe Miasto':'Śródmieście', 'Nowodwory':'Białołęka',\n",
    "'Białołęka':'Białołęka', 'Nowolipki':'Wola', 'Nowy Rembertów':'Rembertów', 'Odolany':'Wola', \n",
    "'Okęcie':'Włochy', 'OlszynkaGrochowska':'Praga-Południe', 'Pelcowizna':'Praga-Północ', 'Piaski':'Bielany',\n",
    "'Powązki':'Wola', 'Powiśle':'Śródmieście', 'Powsin':'Wilanów', 'Pyry':'Ursynów', 'Rakowiec':'Ochota',\n",
    "'Raków':'Włochy', 'Sadul':'Wawer', 'Sadyba':'Mokotów', 'SadyŻoliborskie':'Żoliborz', 'Salomea':'Włochy',\n",
    "'Saska Kępa':'Praga-Południe', 'Siekierki':'Mokotów', 'Sielce':'Mokotów', 'Skorosze':'Ursus',\n",
    "'Słodowiec':'Bielany', 'Służew':'Mokotów', 'Służewiec':'Mokotów', 'Solec':'Śródmieście',\n",
    "'Stara Miłosna':'Wesoła', 'Stara Ochota':'Ochota', 'Stara Praga':'Praga-Północ', 'Stare Bielany':'Bielany',\n",
    "'Stare Miasto':'Śródmieście', 'Stare Włochy':'Włochy', 'Stary Imielin':'Ursynów', 'Stary Mokotów':'Mokotów',\n",
    "'Stary Rembertów':'Rembertów', 'Stary Żoliborz':'Żoliborz', 'Stegny':'Mokotów', 'Szamoty':'Ursus',\n",
    "'Szczęśliwice':'Ochota', 'Szmulowizna':'Praga-Północ', 'ŚródmieściePołudniowe':'Śródmieście',\n",
    "'ŚródmieściePółnocne':'Śródmieście', 'Tarchomin':'Białołęka', 'TargówekMieszkaniowy':'Targówek',\n",
    "'Ujazdów':'Śródmieście', 'Ulrychów':'Wola', 'Ursynów Centrum':'Ursynów', 'UrsynówPółnocny':'Ursynów',\n",
    "'Wawrzyszew':'Bielany', 'Wierzbno':'Mokotów', 'Wilanów Niski':'Wilanów', 'Wilanów Wysoki':'Wilanów',\n",
    "'WilanówKrólewski':'Wilanów', 'Wrzeciono':'Bielany', 'Wyczółki':'Ursynów', 'Wyględów':'Mokotów',\n",
    "'Zacisze':'Targówek', 'Zawady':'Wilanów', 'Zerzeń':'Wawer', 'Zielona-Grzybowa':'Wesoła',\n",
    "'Żerań':'Białołęka', 'Bemowo':'Bemowo', 'Białołęka':'Białołęka', 'Bielany':'Bielany', 'Mokotów':'Mokotów',\n",
    "'Ochota':'Ochota', 'Praga-Południe':'Praga-Południe', 'Praga-Północ':'Praga-Północ',\n",
    "'Rembertów':'Rembertów', 'Śródmieście':'Śródmieście', 'Targówek':'Targówek', 'Ursus':'Ursus',\n",
    "'Ursynów':'Ursynów', 'Wawer':'Wawer', 'Wesoła':'Wesoła', 'Wilanów':'Wilanów', 'Włochy':'Włochy',\n",
    "'Wola':'Wola', 'Żoliborz':'Żoliborz'}\n",
    "\n",
    "\n",
    "prices['district'] = prices['district'].apply(lambda d: d.strip()).map(district_dict)\n",
    "prices.dropna(inplace=True)"
   ]
  },
  {
   "cell_type": "markdown",
   "metadata": {},
   "source": [
    "Rozkład liczby ofert mieszkań w poszczególnych dzielnicach."
   ]
  },
  {
   "cell_type": "code",
   "execution_count": 14,
   "metadata": {},
   "outputs": [
    {
     "data": {
      "text/plain": [
       "Mokotów           874\n",
       "Śródmieście       598\n",
       "Praga-Południe    597\n",
       "Białołęka         478\n",
       "Wola              426\n",
       "Ursynów           403\n",
       "Wilanów           318\n",
       "Ochota            287\n",
       "Bemowo            253\n",
       "Bielany           251\n",
       "Praga-Północ      192\n",
       "Ursus             169\n",
       "Targówek          141\n",
       "Żoliborz          136\n",
       "Włochy            122\n",
       "Wawer             111\n",
       "Wesoła             46\n",
       "Rembertów          25\n",
       "Name: district, dtype: int64"
      ]
     },
     "execution_count": 14,
     "metadata": {},
     "output_type": "execute_result"
    }
   ],
   "source": [
    "prices['district'].value_counts()"
   ]
  },
  {
   "cell_type": "markdown",
   "metadata": {},
   "source": [
    "<b>Średnie wartości poszczególnych zmiennych w zależności od dzielnicy.<b>"
   ]
  },
  {
   "cell_type": "code",
   "execution_count": 15,
   "metadata": {},
   "outputs": [
    {
     "data": {
      "text/html": [
       "<div>\n",
       "<style scoped>\n",
       "    .dataframe tbody tr th:only-of-type {\n",
       "        vertical-align: middle;\n",
       "    }\n",
       "\n",
       "    .dataframe tbody tr th {\n",
       "        vertical-align: top;\n",
       "    }\n",
       "\n",
       "    .dataframe thead th {\n",
       "        text-align: right;\n",
       "    }\n",
       "</style>\n",
       "<table border=\"1\" class=\"dataframe\">\n",
       "  <thead>\n",
       "    <tr style=\"text-align: right;\">\n",
       "      <th></th>\n",
       "      <th>area</th>\n",
       "      <th>floor</th>\n",
       "      <th>price</th>\n",
       "      <th>price_m</th>\n",
       "    </tr>\n",
       "    <tr>\n",
       "      <th>district</th>\n",
       "      <th></th>\n",
       "      <th></th>\n",
       "      <th></th>\n",
       "      <th></th>\n",
       "    </tr>\n",
       "  </thead>\n",
       "  <tbody>\n",
       "    <tr>\n",
       "      <th>Bemowo</th>\n",
       "      <td>69.690198</td>\n",
       "      <td>2.818182</td>\n",
       "      <td>608.760747</td>\n",
       "      <td>8825.909224</td>\n",
       "    </tr>\n",
       "    <tr>\n",
       "      <th>Białołęka</th>\n",
       "      <td>60.445000</td>\n",
       "      <td>2.083682</td>\n",
       "      <td>415.578195</td>\n",
       "      <td>7003.688895</td>\n",
       "    </tr>\n",
       "    <tr>\n",
       "      <th>Bielany</th>\n",
       "      <td>58.784462</td>\n",
       "      <td>4.003984</td>\n",
       "      <td>545.203247</td>\n",
       "      <td>9385.284901</td>\n",
       "    </tr>\n",
       "    <tr>\n",
       "      <th>Mokotów</th>\n",
       "      <td>69.795950</td>\n",
       "      <td>3.227689</td>\n",
       "      <td>770.370259</td>\n",
       "      <td>11089.404043</td>\n",
       "    </tr>\n",
       "    <tr>\n",
       "      <th>Ochota</th>\n",
       "      <td>69.975749</td>\n",
       "      <td>3.383275</td>\n",
       "      <td>707.453087</td>\n",
       "      <td>10347.965653</td>\n",
       "    </tr>\n",
       "    <tr>\n",
       "      <th>Praga-Południe</th>\n",
       "      <td>61.440519</td>\n",
       "      <td>3.219430</td>\n",
       "      <td>556.472193</td>\n",
       "      <td>9250.826003</td>\n",
       "    </tr>\n",
       "    <tr>\n",
       "      <th>Praga-Północ</th>\n",
       "      <td>62.291250</td>\n",
       "      <td>3.046875</td>\n",
       "      <td>592.741521</td>\n",
       "      <td>9677.898002</td>\n",
       "    </tr>\n",
       "    <tr>\n",
       "      <th>Rembertów</th>\n",
       "      <td>69.760000</td>\n",
       "      <td>1.320000</td>\n",
       "      <td>457.533320</td>\n",
       "      <td>6912.889173</td>\n",
       "    </tr>\n",
       "    <tr>\n",
       "      <th>Targówek</th>\n",
       "      <td>63.383972</td>\n",
       "      <td>4.141844</td>\n",
       "      <td>495.456121</td>\n",
       "      <td>7994.114470</td>\n",
       "    </tr>\n",
       "    <tr>\n",
       "      <th>Ursus</th>\n",
       "      <td>60.022249</td>\n",
       "      <td>2.627219</td>\n",
       "      <td>483.020947</td>\n",
       "      <td>8078.406392</td>\n",
       "    </tr>\n",
       "    <tr>\n",
       "      <th>Ursynów</th>\n",
       "      <td>76.095533</td>\n",
       "      <td>2.933002</td>\n",
       "      <td>686.890442</td>\n",
       "      <td>9246.831405</td>\n",
       "    </tr>\n",
       "    <tr>\n",
       "      <th>Wawer</th>\n",
       "      <td>82.261982</td>\n",
       "      <td>1.153153</td>\n",
       "      <td>569.584063</td>\n",
       "      <td>7391.232102</td>\n",
       "    </tr>\n",
       "    <tr>\n",
       "      <th>Wesoła</th>\n",
       "      <td>80.342826</td>\n",
       "      <td>1.673913</td>\n",
       "      <td>483.493565</td>\n",
       "      <td>6331.159184</td>\n",
       "    </tr>\n",
       "    <tr>\n",
       "      <th>Wilanów</th>\n",
       "      <td>79.498239</td>\n",
       "      <td>1.688679</td>\n",
       "      <td>825.328314</td>\n",
       "      <td>10362.673151</td>\n",
       "    </tr>\n",
       "    <tr>\n",
       "      <th>Wola</th>\n",
       "      <td>58.782347</td>\n",
       "      <td>4.420188</td>\n",
       "      <td>656.655568</td>\n",
       "      <td>11234.133431</td>\n",
       "    </tr>\n",
       "    <tr>\n",
       "      <th>Włochy</th>\n",
       "      <td>77.454918</td>\n",
       "      <td>1.959016</td>\n",
       "      <td>684.757033</td>\n",
       "      <td>9146.483080</td>\n",
       "    </tr>\n",
       "    <tr>\n",
       "      <th>Śródmieście</th>\n",
       "      <td>66.282692</td>\n",
       "      <td>3.456522</td>\n",
       "      <td>863.527483</td>\n",
       "      <td>13467.108399</td>\n",
       "    </tr>\n",
       "    <tr>\n",
       "      <th>Żoliborz</th>\n",
       "      <td>67.825662</td>\n",
       "      <td>2.691176</td>\n",
       "      <td>785.483441</td>\n",
       "      <td>11630.652715</td>\n",
       "    </tr>\n",
       "  </tbody>\n",
       "</table>\n",
       "</div>"
      ],
      "text/plain": [
       "                     area     floor       price       price_m\n",
       "district                                                     \n",
       "Bemowo          69.690198  2.818182  608.760747   8825.909224\n",
       "Białołęka       60.445000  2.083682  415.578195   7003.688895\n",
       "Bielany         58.784462  4.003984  545.203247   9385.284901\n",
       "Mokotów         69.795950  3.227689  770.370259  11089.404043\n",
       "Ochota          69.975749  3.383275  707.453087  10347.965653\n",
       "Praga-Południe  61.440519  3.219430  556.472193   9250.826003\n",
       "Praga-Północ    62.291250  3.046875  592.741521   9677.898002\n",
       "Rembertów       69.760000  1.320000  457.533320   6912.889173\n",
       "Targówek        63.383972  4.141844  495.456121   7994.114470\n",
       "Ursus           60.022249  2.627219  483.020947   8078.406392\n",
       "Ursynów         76.095533  2.933002  686.890442   9246.831405\n",
       "Wawer           82.261982  1.153153  569.584063   7391.232102\n",
       "Wesoła          80.342826  1.673913  483.493565   6331.159184\n",
       "Wilanów         79.498239  1.688679  825.328314  10362.673151\n",
       "Wola            58.782347  4.420188  656.655568  11234.133431\n",
       "Włochy          77.454918  1.959016  684.757033   9146.483080\n",
       "Śródmieście     66.282692  3.456522  863.527483  13467.108399\n",
       "Żoliborz        67.825662  2.691176  785.483441  11630.652715"
      ]
     },
     "execution_count": 15,
     "metadata": {},
     "output_type": "execute_result"
    }
   ],
   "source": [
    "prices.groupby('district').mean()"
   ]
  },
  {
   "cell_type": "markdown",
   "metadata": {},
   "source": [
    "<b>Kolejny etap przekształcania zmiennej 'district' - zamiana etykiet tekstowych na wartości binarne.<b>"
   ]
  },
  {
   "cell_type": "code",
   "execution_count": 16,
   "metadata": {},
   "outputs": [],
   "source": [
    "district_dummies = pd.get_dummies(prices['district'])"
   ]
  },
  {
   "cell_type": "code",
   "execution_count": 17,
   "metadata": {},
   "outputs": [],
   "source": [
    "prices = pd.concat([prices,district_dummies], axis=1)"
   ]
  },
  {
   "cell_type": "markdown",
   "metadata": {},
   "source": [
    "<b>Ostateczne uformowanie zbioru danych</b>"
   ]
  },
  {
   "cell_type": "code",
   "execution_count": 18,
   "metadata": {},
   "outputs": [],
   "source": [
    "final_data = prices.drop(['district','price_m'],axis=1)"
   ]
  },
  {
   "cell_type": "markdown",
   "metadata": {},
   "source": [
    "Podgląd na zbiór danych"
   ]
  },
  {
   "cell_type": "code",
   "execution_count": 19,
   "metadata": {},
   "outputs": [
    {
     "data": {
      "text/html": [
       "<div>\n",
       "<style scoped>\n",
       "    .dataframe tbody tr th:only-of-type {\n",
       "        vertical-align: middle;\n",
       "    }\n",
       "\n",
       "    .dataframe tbody tr th {\n",
       "        vertical-align: top;\n",
       "    }\n",
       "\n",
       "    .dataframe thead th {\n",
       "        text-align: right;\n",
       "    }\n",
       "</style>\n",
       "<table border=\"1\" class=\"dataframe\">\n",
       "  <thead>\n",
       "    <tr style=\"text-align: right;\">\n",
       "      <th></th>\n",
       "      <th>area</th>\n",
       "      <th>floor</th>\n",
       "      <th>price</th>\n",
       "      <th>Bemowo</th>\n",
       "      <th>Białołęka</th>\n",
       "      <th>Bielany</th>\n",
       "      <th>Mokotów</th>\n",
       "      <th>Ochota</th>\n",
       "      <th>Praga-Południe</th>\n",
       "      <th>Praga-Północ</th>\n",
       "      <th>...</th>\n",
       "      <th>Targówek</th>\n",
       "      <th>Ursus</th>\n",
       "      <th>Ursynów</th>\n",
       "      <th>Wawer</th>\n",
       "      <th>Wesoła</th>\n",
       "      <th>Wilanów</th>\n",
       "      <th>Wola</th>\n",
       "      <th>Włochy</th>\n",
       "      <th>Śródmieście</th>\n",
       "      <th>Żoliborz</th>\n",
       "    </tr>\n",
       "  </thead>\n",
       "  <tbody>\n",
       "    <tr>\n",
       "      <th>2</th>\n",
       "      <td>103.36</td>\n",
       "      <td>3</td>\n",
       "      <td>764.864</td>\n",
       "      <td>1</td>\n",
       "      <td>0</td>\n",
       "      <td>0</td>\n",
       "      <td>0</td>\n",
       "      <td>0</td>\n",
       "      <td>0</td>\n",
       "      <td>0</td>\n",
       "      <td>...</td>\n",
       "      <td>0</td>\n",
       "      <td>0</td>\n",
       "      <td>0</td>\n",
       "      <td>0</td>\n",
       "      <td>0</td>\n",
       "      <td>0</td>\n",
       "      <td>0</td>\n",
       "      <td>0</td>\n",
       "      <td>0</td>\n",
       "      <td>0</td>\n",
       "    </tr>\n",
       "    <tr>\n",
       "      <th>3</th>\n",
       "      <td>64.00</td>\n",
       "      <td>4</td>\n",
       "      <td>750.000</td>\n",
       "      <td>0</td>\n",
       "      <td>0</td>\n",
       "      <td>0</td>\n",
       "      <td>0</td>\n",
       "      <td>0</td>\n",
       "      <td>0</td>\n",
       "      <td>0</td>\n",
       "      <td>...</td>\n",
       "      <td>0</td>\n",
       "      <td>0</td>\n",
       "      <td>0</td>\n",
       "      <td>0</td>\n",
       "      <td>0</td>\n",
       "      <td>0</td>\n",
       "      <td>0</td>\n",
       "      <td>0</td>\n",
       "      <td>1</td>\n",
       "      <td>0</td>\n",
       "    </tr>\n",
       "    <tr>\n",
       "      <th>4</th>\n",
       "      <td>61.00</td>\n",
       "      <td>2</td>\n",
       "      <td>499.000</td>\n",
       "      <td>0</td>\n",
       "      <td>0</td>\n",
       "      <td>0</td>\n",
       "      <td>0</td>\n",
       "      <td>0</td>\n",
       "      <td>1</td>\n",
       "      <td>0</td>\n",
       "      <td>...</td>\n",
       "      <td>0</td>\n",
       "      <td>0</td>\n",
       "      <td>0</td>\n",
       "      <td>0</td>\n",
       "      <td>0</td>\n",
       "      <td>0</td>\n",
       "      <td>0</td>\n",
       "      <td>0</td>\n",
       "      <td>0</td>\n",
       "      <td>0</td>\n",
       "    </tr>\n",
       "    <tr>\n",
       "      <th>5</th>\n",
       "      <td>104.86</td>\n",
       "      <td>1</td>\n",
       "      <td>895.539</td>\n",
       "      <td>0</td>\n",
       "      <td>0</td>\n",
       "      <td>0</td>\n",
       "      <td>0</td>\n",
       "      <td>0</td>\n",
       "      <td>0</td>\n",
       "      <td>0</td>\n",
       "      <td>...</td>\n",
       "      <td>0</td>\n",
       "      <td>0</td>\n",
       "      <td>0</td>\n",
       "      <td>0</td>\n",
       "      <td>0</td>\n",
       "      <td>0</td>\n",
       "      <td>0</td>\n",
       "      <td>1</td>\n",
       "      <td>0</td>\n",
       "      <td>0</td>\n",
       "    </tr>\n",
       "    <tr>\n",
       "      <th>6</th>\n",
       "      <td>51.00</td>\n",
       "      <td>1</td>\n",
       "      <td>429.000</td>\n",
       "      <td>0</td>\n",
       "      <td>0</td>\n",
       "      <td>0</td>\n",
       "      <td>0</td>\n",
       "      <td>0</td>\n",
       "      <td>1</td>\n",
       "      <td>0</td>\n",
       "      <td>...</td>\n",
       "      <td>0</td>\n",
       "      <td>0</td>\n",
       "      <td>0</td>\n",
       "      <td>0</td>\n",
       "      <td>0</td>\n",
       "      <td>0</td>\n",
       "      <td>0</td>\n",
       "      <td>0</td>\n",
       "      <td>0</td>\n",
       "      <td>0</td>\n",
       "    </tr>\n",
       "  </tbody>\n",
       "</table>\n",
       "<p>5 rows × 21 columns</p>\n",
       "</div>"
      ],
      "text/plain": [
       "     area  floor    price  Bemowo  Białołęka  Bielany  Mokotów  Ochota  \\\n",
       "2  103.36      3  764.864       1          0        0        0       0   \n",
       "3   64.00      4  750.000       0          0        0        0       0   \n",
       "4   61.00      2  499.000       0          0        0        0       0   \n",
       "5  104.86      1  895.539       0          0        0        0       0   \n",
       "6   51.00      1  429.000       0          0        0        0       0   \n",
       "\n",
       "   Praga-Południe  Praga-Północ    ...     Targówek  Ursus  Ursynów  Wawer  \\\n",
       "2               0             0    ...            0      0        0      0   \n",
       "3               0             0    ...            0      0        0      0   \n",
       "4               1             0    ...            0      0        0      0   \n",
       "5               0             0    ...            0      0        0      0   \n",
       "6               1             0    ...            0      0        0      0   \n",
       "\n",
       "   Wesoła  Wilanów  Wola  Włochy  Śródmieście  Żoliborz  \n",
       "2       0        0     0       0            0         0  \n",
       "3       0        0     0       0            1         0  \n",
       "4       0        0     0       0            0         0  \n",
       "5       0        0     0       1            0         0  \n",
       "6       0        0     0       0            0         0  \n",
       "\n",
       "[5 rows x 21 columns]"
      ]
     },
     "execution_count": 19,
     "metadata": {},
     "output_type": "execute_result"
    }
   ],
   "source": [
    "final_data.head()"
   ]
  },
  {
   "cell_type": "markdown",
   "metadata": {},
   "source": [
    "<b>Wizualizacja zmiennych przygotowanych do analizy</b><br>"
   ]
  },
  {
   "cell_type": "markdown",
   "metadata": {},
   "source": [
    "Histogram dla zmiennej 'price' - zmienna ma rozkład odbiegający od rozkładu normalnego, niemniej wielkość badanej próby pozwala na zastosowanie regresji liniowej."
   ]
  },
  {
   "cell_type": "code",
   "execution_count": 20,
   "metadata": {},
   "outputs": [
    {
     "data": {
      "image/png": "[encoded data removed]",
      "text/plain": [
       "<Figure size 1080x360 with 1 Axes>"
      ]
     },
     "metadata": {},
     "output_type": "display_data"
    }
   ],
   "source": [
    "plt.figure(figsize=(15,5))\n",
    "plt.hist(prices['price'], bins=50)\n",
    "plt.grid(alpha=0.4)\n",
    "plt.title('Rozkład cen mieszkań w Warszawie')\n",
    "plt.xlabel('cena (tys. PLN)')\n",
    "plt.ylabel('częstość')\n",
    "plt.show()"
   ]
  },
  {
   "cell_type": "markdown",
   "metadata": {},
   "source": [
    "Histogram dla zmiennej 'area'"
   ]
  },
  {
   "cell_type": "code",
   "execution_count": 21,
   "metadata": {},
   "outputs": [
    {
     "data": {
      "image/png": "[encoded data removed]",
      "text/plain": [
       "<Figure size 864x288 with 1 Axes>"
      ]
     },
     "metadata": {},
     "output_type": "display_data"
    }
   ],
   "source": [
    "plt.figure(figsize=(12,4))\n",
    "plt.hist(prices['area'], bins=60)\n",
    "plt.grid(alpha=0.4)\n",
    "plt.title('Rozkład powierzchni mieszkań w Warszawie')\n",
    "plt.xlabel('powierzchnia (m²)')\n",
    "plt.ylabel('częstość')\n",
    "plt.show()"
   ]
  },
  {
   "cell_type": "markdown",
   "metadata": {},
   "source": [
    "Histogram dla zmiennej 'floor'"
   ]
  },
  {
   "cell_type": "code",
   "execution_count": 22,
   "metadata": {},
   "outputs": [
    {
     "data": {
      "image/png": "[encoded data removed]",
      "text/plain": [
       "<Figure size 576x288 with 1 Axes>"
      ]
     },
     "metadata": {},
     "output_type": "display_data"
    }
   ],
   "source": [
    "plt.figure(figsize=(8,4))\n",
    "plt.hist(prices['floor'], bins=20)\n",
    "plt.grid(alpha=0.4)\n",
    "plt.title('Rozkład położenia (piętro) mieszkań w Warszawie')\n",
    "plt.xlabel('piętro')\n",
    "plt.ylabel('częstość')\n",
    "plt.show()"
   ]
  },
  {
   "cell_type": "markdown",
   "metadata": {},
   "source": [
    "<b>Wstępna analiza zależności między zmiennymi</b><br><br>\n",
    "Występowanie silnej dodatniej korelacji między zmiennymi 'area' i 'price'."
   ]
  },
  {
   "cell_type": "code",
   "execution_count": 23,
   "metadata": {},
   "outputs": [
    {
     "data": {
      "text/plain": [
       "<seaborn.axisgrid.JointGrid at 0x231606d6eb8>"
      ]
     },
     "execution_count": 23,
     "metadata": {},
     "output_type": "execute_result"
    },
    {
     "data": {
      "image/png": "[encoded data removed]",
      "text/plain": [
       "<Figure size 432x432 with 3 Axes>"
      ]
     },
     "metadata": {},
     "output_type": "display_data"
    }
   ],
   "source": [
    "sns.jointplot(data=prices, x='area', y='price', kind='reg', size=6, ratio=6)"
   ]
  },
  {
   "cell_type": "markdown",
   "metadata": {},
   "source": [
    "Występowanie słabej dodatniej korelacji między zmiennymi 'floor' i 'price'."
   ]
  },
  {
   "cell_type": "code",
   "execution_count": 24,
   "metadata": {},
   "outputs": [
    {
     "data": {
      "text/plain": [
       "<seaborn.axisgrid.JointGrid at 0x23160ce5c50>"
      ]
     },
     "execution_count": 24,
     "metadata": {},
     "output_type": "execute_result"
    },
    {
     "data": {
      "image/png": "[encoded data removed]",
      "text/plain": [
       "<Figure size 432x432 with 3 Axes>"
      ]
     },
     "metadata": {},
     "output_type": "display_data"
    }
   ],
   "source": [
    "sns.jointplot(data=prices, x='floor', y='price', kind='reg', size=6, ratio=6)"
   ]
  },
  {
   "cell_type": "markdown",
   "metadata": {},
   "source": [
    "### 4. Modelowanie cen mieszkań"
   ]
  },
  {
   "cell_type": "markdown",
   "metadata": {},
   "source": [
    "<b>Podział na zbiór uczący i walidacyjny</b>,<br><br>\n",
    "Zbiór uczący - 80% obserwacji, zbiór testowy - 20% obserwacji."
   ]
  },
  {
   "cell_type": "code",
   "execution_count": 25,
   "metadata": {},
   "outputs": [],
   "source": [
    "X = final_data.drop(['price'], axis=1)\n",
    "y = final_data['price']\n",
    "\n",
    "X_train, X_test, y_train, y_test = train_test_split(X, y, test_size = 0.2, random_state=42)"
   ]
  },
  {
   "cell_type": "markdown",
   "metadata": {},
   "source": [
    "<b>Standaryzacja zmiennych 'area' i 'floor' na bazie danych uczących</b>"
   ]
  },
  {
   "cell_type": "code",
   "execution_count": 26,
   "metadata": {},
   "outputs": [],
   "source": [
    "scaler = StandardScaler()\n",
    "scaled_predictors = scaler.fit_transform(X_train[['area','floor']])\n",
    "X_train[['area_sc','floor_sc']] = pd.DataFrame(columns=['area_sc','floor_sc'])\n",
    "X_train[['area_sc','floor_sc']] = scaled_predictors\n",
    "X_train.drop(['area','floor'], axis=1, inplace=True)"
   ]
  },
  {
   "cell_type": "markdown",
   "metadata": {},
   "source": [
    "#### Model 1. Linear Regression\n",
    "Prosty model regresji liniowej wyjaśnia blisko 75% wariancji zmiennej zależnej. "
   ]
  },
  {
   "cell_type": "code",
   "execution_count": 27,
   "metadata": {},
   "outputs": [
    {
     "name": "stdout",
     "output_type": "stream",
     "text": [
      "Współczynnik determinacji R^2: 0.747\n"
     ]
    }
   ],
   "source": [
    "lin_reg = LinearRegression()\n",
    "lin_reg.fit(X_train,y_train)\n",
    "print('Współczynnik determinacji R^2: {}'.format(lin_reg.score(X_train,y_train).round(3)))"
   ]
  },
  {
   "cell_type": "markdown",
   "metadata": {},
   "source": [
    "Pierwiastek błędu średniokwadratowego (Root Mean Square Error) dla zbioru uczącego wynosi ok. 157 tys. PLN."
   ]
  },
  {
   "cell_type": "code",
   "execution_count": 28,
   "metadata": {},
   "outputs": [
    {
     "name": "stdout",
     "output_type": "stream",
     "text": [
      "Pierwiastek błędu średniokwadratowego (RMSE) dla zbioru uczącego: 157.4\n"
     ]
    }
   ],
   "source": [
    "predictions_lin_reg = lin_reg.predict(X_train)\n",
    "lin_reg_mse = mean_squared_error(y_train, predictions_lin_reg)\n",
    "lin_reg_rmse = np.sqrt(lin_reg_mse)\n",
    "print('Pierwiastek błędu średniokwadratowego (RMSE) dla zbioru uczącego:', lin_reg_rmse.round(1))"
   ]
  },
  {
   "cell_type": "markdown",
   "metadata": {},
   "source": [
    "#### Model 2. Linear Regression - z wykorzystaniem kroswalidacji\n",
    "W celu dokładniejszego oszcowania wyników modelu regresji liniowej zastosowano 10-krotny sprawdzian krzyżowy. Uzyskany średni RMSE jest zbliżony do modelu bez kroswalidacji.  "
   ]
  },
  {
   "cell_type": "code",
   "execution_count": 29,
   "metadata": {},
   "outputs": [
    {
     "name": "stdout",
     "output_type": "stream",
     "text": [
      "Wyniki 10-krotnego sprawdzianu krzyżowego: [145.8 162.7 166.  145.5 164.3 167.6 149.2 155.7 152.6 168.2]\n",
      "Średnia z wyników sprawdzianu krzyżowego: 157.8\n",
      "Odchylenie standardowe wyników sprawdzianu krzyżowego: 8.6\n"
     ]
    }
   ],
   "source": [
    "lin_reg_cv = cross_val_score(lin_reg, X_train, y_train, scoring='neg_mean_squared_error', cv=10)\n",
    "lin_reg_cv_rmse = np.sqrt(-lin_reg_cv)\n",
    "print('Wyniki 10-krotnego sprawdzianu krzyżowego:', lin_reg_cv_rmse.round(1))\n",
    "print('Średnia z wyników sprawdzianu krzyżowego:', lin_reg_cv_rmse.mean().round(1))\n",
    "print('Odchylenie standardowe wyników sprawdzianu krzyżowego:', lin_reg_cv_rmse.std().round(1))"
   ]
  },
  {
   "cell_type": "markdown",
   "metadata": {},
   "source": [
    "#### Model 3. Decision Tree Regressor - z wykorzystaniem kroswalidacji\n",
    "Model drzewa decyzyjnego z 10-krotną kroswalidacją cechował się średnio gorszymi wynikami od modelu regresji liniowej (średnia z wyników sprawdzianu krzyżowego ok. 169 tys. PLN)."
   ]
  },
  {
   "cell_type": "code",
   "execution_count": 30,
   "metadata": {},
   "outputs": [
    {
     "name": "stdout",
     "output_type": "stream",
     "text": [
      "Wyniki 10-krotnego sprawdzianu krzyżowego: [168.4 182.7 183.8 175.8 180.3 160.6 154.2 159.  155.7 164.4]\n",
      "Średnia z wyników sprawdzianu krzyżowego: 168.5\n",
      "Odchylenie standardowe wyników sprawdzianu krzyżowego: 10.8\n"
     ]
    }
   ],
   "source": [
    "tree_reg_cv = cross_val_score(DecisionTreeRegressor(), X_train, y_train, scoring='neg_mean_squared_error', cv=10)\n",
    "tree_reg_cv_rmse = np.sqrt(-tree_reg_cv)\n",
    "print('Wyniki 10-krotnego sprawdzianu krzyżowego:', tree_reg_cv_rmse.round(1))\n",
    "print('Średnia z wyników sprawdzianu krzyżowego:', tree_reg_cv_rmse.mean().round(1))\n",
    "print('Odchylenie standardowe wyników sprawdzianu krzyżowego:', tree_reg_cv_rmse.std().round(1))"
   ]
  },
  {
   "cell_type": "markdown",
   "metadata": {},
   "source": [
    "#### Model 4. Random Forest Regressor - z wykorzystaniem kroswalidacji\n",
    "Model losowego lasu cechuje się najlepszymi wynikami w porównaniu z pozostałymi modelami - średnia z wyników sprawdzianu krzyżowego oscyluje wokół wartości 142 tys. PLN. Dlatego też model ten w następnym kroku poddany zostanie optymalizacji hiperparametrów."
   ]
  },
  {
   "cell_type": "code",
   "execution_count": 31,
   "metadata": {},
   "outputs": [
    {
     "name": "stdout",
     "output_type": "stream",
     "text": [
      "Wyniki 10-krotnego sprawdzianu krzyżowego: [168.4 182.7 183.8 175.8 180.3 160.6 154.2 159.  155.7 164.4]\n",
      "Średnia z wyników sprawdzianu krzyżowego: 141.6\n",
      "Odchylenie standardowe wyników sprawdzianu krzyżowego: 9.4\n"
     ]
    }
   ],
   "source": [
    "forest_reg_cv = cross_val_score(RandomForestRegressor(), X_train, y_train, scoring='neg_mean_squared_error', cv=10)\n",
    "forest_reg_cv_rmse = np.sqrt(-forest_reg_cv)\n",
    "print('Wyniki 10-krotnego sprawdzianu krzyżowego:', tree_reg_cv_rmse.round(1))\n",
    "print('Średnia z wyników sprawdzianu krzyżowego:', forest_reg_cv_rmse.mean().round(1))\n",
    "print('Odchylenie standardowe wyników sprawdzianu krzyżowego:', forest_reg_cv_rmse.std().round(1))"
   ]
  },
  {
   "cell_type": "markdown",
   "metadata": {},
   "source": [
    "#### Model 5. Random Forest Regressor - z optymalizacją hiperparametrów metodą RandomizedSearchCV\n",
    "Parametry poddane optymalizacji to: 'n_estimators' oraz 'bootstrap'. Przetestowano w sumie 50 losowych kombinacji hiperparametrów z 5-krotną kroswalidacją. Optymalizacja modelu pozwoliła znacząco poprawić wyniki w porównaniu do standardowych wartości tych hiperparametrów."
   ]
  },
  {
   "cell_type": "code",
   "execution_count": 32,
   "metadata": {},
   "outputs": [
    {
     "data": {
      "text/plain": [
       "RandomizedSearchCV(cv=5, error_score='raise',\n",
       "          estimator=RandomForestRegressor(bootstrap=True, criterion='mse', max_depth=None,\n",
       "           max_features='auto', max_leaf_nodes=None,\n",
       "           min_impurity_decrease=0.0, min_impurity_split=None,\n",
       "           min_samples_leaf=3, min_samples_split=2,\n",
       "           min_weight_fraction_leaf=0.0, n_estimators=10, n_jobs=1,\n",
       "           oob_score=False, random_state=None, verbose=0, warm_start=False),\n",
       "          fit_params=None, iid=True, n_iter=50, n_jobs=1,\n",
       "          param_distributions={'n_estimators': <scipy.stats._distn_infrastructure.rv_frozen object at 0x0000023160FAAA20>, 'bootstrap': ('True', 'False')},\n",
       "          pre_dispatch='2*n_jobs', random_state=None, refit=True,\n",
       "          return_train_score='warn', scoring='neg_mean_squared_error',\n",
       "          verbose=0)"
      ]
     },
     "execution_count": 32,
     "metadata": {},
     "output_type": "execute_result"
    }
   ],
   "source": [
    "param_grid = {'n_estimators': randint(5,300),\n",
    "             'bootstrap': ('True', 'False')}\n",
    "\n",
    "forest_reg = RandomForestRegressor(min_samples_leaf=3)\n",
    "forest_reg_rscv = RandomizedSearchCV(forest_reg, param_grid, n_iter=50, cv=5, scoring='neg_mean_squared_error')\n",
    "forest_reg_rscv.fit(X_train, y_train)"
   ]
  },
  {
   "cell_type": "markdown",
   "metadata": {},
   "source": [
    "Optymalne parametry - 'bootstrap': 'True', 'n_estimators': 146"
   ]
  },
  {
   "cell_type": "code",
   "execution_count": 34,
   "metadata": {},
   "outputs": [
    {
     "data": {
      "text/plain": [
       "{'bootstrap': 'True', 'n_estimators': 146}"
      ]
     },
     "execution_count": 34,
     "metadata": {},
     "output_type": "execute_result"
    }
   ],
   "source": [
    "forest_reg_rscv.best_params_"
   ]
  },
  {
   "cell_type": "code",
   "execution_count": 35,
   "metadata": {},
   "outputs": [],
   "source": [
    "model_final = forest_reg_rscv.best_estimator_"
   ]
  },
  {
   "cell_type": "markdown",
   "metadata": {},
   "source": [
    "Model wytrenowany na danych uczących wyjaśnia łącznie blisko 91% zmienności zmiennej zależnej."
   ]
  },
  {
   "cell_type": "code",
   "execution_count": 36,
   "metadata": {},
   "outputs": [
    {
     "name": "stdout",
     "output_type": "stream",
     "text": [
      "Współczynnik determinacji R^2: 0.905\n"
     ]
    }
   ],
   "source": [
    "print('Współczynnik determinacji R^2: {}'.format(model_final.score(X_train, y_train).round(3)))"
   ]
  },
  {
   "cell_type": "markdown",
   "metadata": {},
   "source": [
    "Przy optymalnych hiperparametrach pierwiastek błędu średniokwadratowego (RMSE) dla zbioru uczącego wynosi ok 97 tys. PLN."
   ]
  },
  {
   "cell_type": "code",
   "execution_count": 37,
   "metadata": {},
   "outputs": [
    {
     "name": "stdout",
     "output_type": "stream",
     "text": [
      "Pierwiastek błędu średniokwadratowego (RMSE) dla zbioru uczącego: 96.6\n"
     ]
    }
   ],
   "source": [
    "predictions_model_final = model_final.predict(X_train)\n",
    "model_final_mse = mean_squared_error(y_train, predictions_model_final)\n",
    "model_final_rmse = np.sqrt(model_final_mse)\n",
    "print('Pierwiastek błędu średniokwadratowego (RMSE) dla zbioru uczącego:', model_final_rmse.round(1))"
   ]
  },
  {
   "cell_type": "markdown",
   "metadata": {},
   "source": [
    "Określono również względne istotności poszczególnych atrybutów."
   ]
  },
  {
   "cell_type": "code",
   "execution_count": 38,
   "metadata": {},
   "outputs": [
    {
     "name": "stdout",
     "output_type": "stream",
     "text": [
      "Istotności poszczególnych atrybutów:\n",
      "Bemowo : 0.0017\n",
      "Białołęka : 0.0307\n",
      "Bielany : 0.0011\n",
      "Mokotów : 0.0256\n",
      "Ochota : 0.0043\n",
      "Praga-Południe : 0.0053\n",
      "Praga-Północ : 0.001\n",
      "Rembertów : 0.0006\n",
      "Targówek : 0.0015\n",
      "Ursus : 0.0013\n",
      "Ursynów : 0.0048\n",
      "Wawer : 0.0093\n",
      "Wesoła : 0.007\n",
      "Wilanów : 0.0073\n",
      "Wola : 0.0083\n",
      "Włochy : 0.0025\n",
      "Śródmieście : 0.056\n",
      "Żoliborz : 0.0085\n",
      "area_sc : 0.7787\n",
      "floor_sc : 0.0445\n"
     ]
    }
   ],
   "source": [
    "feature_importances = model_final.feature_importances_\n",
    "\n",
    "print('Istotności poszczególnych atrybutów:')\n",
    "for atrib, importance in zip(X_train.columns, feature_importances):\n",
    "    print(atrib, ':', importance.round(4))"
   ]
  },
  {
   "cell_type": "markdown",
   "metadata": {},
   "source": [
    "<b>Weryfikacja finalnego modelu na zbiorze walidacyjnym</b><br><br>\n",
    "Przed przystąpieniem do weryfikacji modelu, konieczna jest standaryzacja zmiennych testowych według parametrów uzyskanych dla zbioru uczącego."
   ]
  },
  {
   "cell_type": "code",
   "execution_count": 39,
   "metadata": {},
   "outputs": [],
   "source": [
    "scaled_predictors_test = scaler.transform(X_test[['area','floor']])\n",
    "X_test[['area_sc','floor_sc']] = pd.DataFrame(columns=['area_sc','floor_sc'])\n",
    "X_test[['area_sc','floor_sc']] = scaled_predictors_test\n",
    "\n",
    "X_test.drop(['area','floor'], axis=1, inplace=True)"
   ]
  },
  {
   "cell_type": "markdown",
   "metadata": {},
   "source": [
    "Walidacja finalnego modelu na zbiorze testowym wskazała RMSE na poziomie ok 132 tys. PLN."
   ]
  },
  {
   "cell_type": "code",
   "execution_count": 40,
   "metadata": {},
   "outputs": [],
   "source": [
    "predictions_model_final = model_final.predict(X_test)"
   ]
  },
  {
   "cell_type": "code",
   "execution_count": 41,
   "metadata": {},
   "outputs": [
    {
     "name": "stdout",
     "output_type": "stream",
     "text": [
      "Pierwiastek błędu średniokwadratowego (RMSE) na zbiorze testowym: 131.7\n"
     ]
    }
   ],
   "source": [
    "model_final_mse = mean_squared_error(y_test, predictions_model_final)\n",
    "model_final_rmse = np.sqrt(model_final_mse)\n",
    "print('Pierwiastek błędu średniokwadratowego (RMSE) na zbiorze testowym:', model_final_rmse.round(1))"
   ]
  },
  {
   "cell_type": "markdown",
   "metadata": {},
   "source": [
    "<b>Przykładowe predykcje</b><br><br>\n",
    "Przed dokonaniem przykładowej predykcji przy użyciu opracowanego modelu, należy uwzględnić konieczność standaryzacji zmiennych 'area' i 'floor'"
   ]
  },
  {
   "cell_type": "code",
   "execution_count": 42,
   "metadata": {},
   "outputs": [
    {
     "name": "stdout",
     "output_type": "stream",
     "text": [
      "Wartość zmiennej \"area\" (75m²) po standaryzacji: 0.2763270995537337\n",
      "Wartość zmiennej \"floor\" (2 piętro) po standaryzacji: -0.378480938152188\n"
     ]
    }
   ],
   "source": [
    "# predykcja dla przykładowego mieszkania o powierzchni 75 m.kw, na drugim piętrze, zlokalizowanego na Białołęce \n",
    "# wymagana standaryzacja predyktorów 'area' i 'floor'\n",
    "example_area = 75 # m²\n",
    "example_floor = 2 \n",
    "\n",
    "example_predictors_scaled = scaler.transform(np.array([[example_area,example_floor]]))\n",
    "ex_area_scaled = example_predictors_scaled[0,0]\n",
    "ex_floor_scaled = example_predictors_scaled[0,1]\n",
    "print('Wartość zmiennej \"area\" ({}m²) po standaryzacji: {}'.format(example_area, ex_area_scaled))\n",
    "print('Wartość zmiennej \"floor\" ({} piętro) po standaryzacji: {}'.format(example_floor, ex_floor_scaled))"
   ]
  },
  {
   "cell_type": "code",
   "execution_count": 43,
   "metadata": {},
   "outputs": [
    {
     "data": {
      "text/plain": [
       "Index(['Bemowo', 'Białołęka', 'Bielany', 'Mokotów', 'Ochota', 'Praga-Południe',\n",
       "       'Praga-Północ', 'Rembertów', 'Targówek', 'Ursus', 'Ursynów', 'Wawer',\n",
       "       'Wesoła', 'Wilanów', 'Wola', 'Włochy', 'Śródmieście', 'Żoliborz',\n",
       "       'area_sc', 'floor_sc'],\n",
       "      dtype='object')"
      ]
     },
     "execution_count": 43,
     "metadata": {},
     "output_type": "execute_result"
    }
   ],
   "source": [
    "X_test.columns"
   ]
  },
  {
   "cell_type": "markdown",
   "metadata": {},
   "source": [
    "Mając standaryzowane dane można dokonać predykcji wartości przykładowego mieszkania o powierzchni 75 m.kw, na drugim piętrze, zlokalizowanego na Białołęce"
   ]
  },
  {
   "cell_type": "code",
   "execution_count": 44,
   "metadata": {},
   "outputs": [
    {
     "name": "stdout",
     "output_type": "stream",
     "text": [
      "Szacowana cena mieszkania: 529.94 tys.PLN\n"
     ]
    }
   ],
   "source": [
    "# predykcja wartości mieszkania\n",
    "example_flat_prediction = model_final.predict([[0,1,0,0,0,0,0,0,0,0,0,0,0,0,0,0,0,0,ex_area_scaled,ex_floor_scaled]])\n",
    "print('Szacowana cena mieszkania: {} tys.PLN'.format(example_flat_prediction.round(2)[0]))"
   ]
  }
 ],
 "metadata": {
  "kernelspec": {
   "display_name": "Python 3",
   "language": "python",
   "name": "python3"
  },
  "language_info": {
   "codemirror_mode": {
    "name": "ipython",
    "version": 3
   },
   "file_extension": ".py",
   "mimetype": "text/x-python",
   "name": "python",
   "nbconvert_exporter": "python",
   "pygments_lexer": "ipython3",
   "version": "3.6.5"
  }
 },
 "nbformat": 4,
 "nbformat_minor": 2
}
